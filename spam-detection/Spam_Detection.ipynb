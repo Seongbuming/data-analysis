{
  "nbformat": 4,
  "nbformat_minor": 0,
  "metadata": {
    "colab": {
      "provenance": [],
      "authorship_tag": "ABX9TyMkE6zm79x3Hv9aSJSihOQy",
      "include_colab_link": true
    },
    "kernelspec": {
      "name": "python3",
      "display_name": "Python 3"
    },
    "language_info": {
      "name": "python"
    }
  },
  "cells": [
    {
      "cell_type": "markdown",
      "metadata": {
        "id": "view-in-github",
        "colab_type": "text"
      },
      "source": [
        "<a href=\"https://colab.research.google.com/github/Seongbuming/data-analysis/blob/main/spam-detection/Spam_Detection.ipynb\" target=\"_parent\"><img src=\"https://colab.research.google.com/assets/colab-badge.svg\" alt=\"Open In Colab\"/></a>"
      ]
    },
    {
      "cell_type": "code",
      "execution_count": null,
      "metadata": {
        "id": "8S_1yFbwozc1"
      },
      "outputs": [],
      "source": [
        "import pandas as pd\n",
        "import numpy as np\n",
        "import matplotlib.pyplot as plt\n",
        "import seaborn as sns\n",
        "%matplotlib inline"
      ]
    },
    {
      "cell_type": "markdown",
      "source": [
        "# 데이터셋\n",
        "\n",
        "데이터셋으로는 한국우편사업진흥원의 [스팸메일 수신차단 목록](https://www.data.go.kr/data/15090173/fileData.do#/layer_data_infomation) 공공데이터를 사용한다.\n",
        "\n",
        "원래는 내 개인 메일함을 데이터셋으로 활용하려고 했다. 11년 동안 직접 메일함 카테고리를 분류해왔기에. 그러나 스팸 메일함은 최대 보관 기간이 30일이었다. 향후에는 직접 스팸 메일함을 수집해서 분석해보아야겠다."
      ],
      "metadata": {
        "id": "KFwQXSonvlV-"
      }
    },
    {
      "cell_type": "code",
      "source": [
        "use_colab = True\n",
        "if use_colab:\n",
        "    from google.colab import drive\n",
        "    drive.mount('/content/gdrive')\n",
        "    %cd '/content/gdrive/MyDrive/작업/2022 데이터분석/2 Spam Detection/data'\n",
        "    %ls"
      ],
      "metadata": {
        "colab": {
          "base_uri": "https://localhost:8080/"
        },
        "id": "cv5Z_XxXt0DG",
        "outputId": "aff27e72-0e37-41d5-952c-74236793ad6c"
      },
      "execution_count": null,
      "outputs": [
        {
          "output_type": "stream",
          "name": "stdout",
          "text": [
            "Mounted at /content/gdrive\n",
            "/content/gdrive/MyDrive/작업/2022 데이터분석/2 Spam Detection/data\n",
            "'한국우편사업진흥원_스팸메일 수신차단 목록_20211231.csv'\n"
          ]
        }
      ]
    },
    {
      "cell_type": "code",
      "source": [
        "dataset = pd.read_csv('한국우편사업진흥원_스팸메일 수신차단 목록_20211231.csv', encoding='cp949') # extended euc-kr\n",
        "print(f'데이터 행 수: {len(dataset)}')"
      ],
      "metadata": {
        "colab": {
          "base_uri": "https://localhost:8080/"
        },
        "id": "_kQ5jDCgxirW",
        "outputId": "f52c4eb6-8c8c-4b96-a1a2-b89f4709e4ce"
      },
      "execution_count": null,
      "outputs": [
        {
          "output_type": "stream",
          "name": "stdout",
          "text": [
            "데이터 행 수: 26651\n"
          ]
        }
      ]
    },
    {
      "cell_type": "markdown",
      "source": [
        "# 데이터 확인"
      ],
      "metadata": {
        "id": "YI9EK54BvlBZ"
      }
    },
    {
      "cell_type": "code",
      "source": [
        "# 필드\n",
        "dataset.info()"
      ],
      "metadata": {
        "colab": {
          "base_uri": "https://localhost:8080/"
        },
        "id": "tvHARVOW0C9L",
        "outputId": "979b6250-f5d6-4ff9-cb81-e324b8db0670"
      },
      "execution_count": null,
      "outputs": [
        {
          "output_type": "stream",
          "name": "stdout",
          "text": [
            "<class 'pandas.core.frame.DataFrame'>\n",
            "RangeIndex: 26651 entries, 0 to 26650\n",
            "Data columns (total 5 columns):\n",
            " #   Column  Non-Null Count  Dtype \n",
            "---  ------  --------------  ----- \n",
            " 0   수신일자    26651 non-null  object\n",
            " 1   수신시간    26651 non-null  object\n",
            " 2   메일종류    26651 non-null  object\n",
            " 3   메일제목    26476 non-null  object\n",
            " 4   첨부      8758 non-null   object\n",
            "dtypes: object(5)\n",
            "memory usage: 1.0+ MB\n"
          ]
        }
      ]
    },
    {
      "cell_type": "markdown",
      "source": [
        "메일의 내용은 포함되어 있지 않다."
      ],
      "metadata": {
        "id": "AViUt96F2IBl"
      }
    },
    {
      "cell_type": "code",
      "source": [
        "# 샘플\n",
        "dataset.head()"
      ],
      "metadata": {
        "colab": {
          "base_uri": "https://localhost:8080/",
          "height": 250
        },
        "id": "gaOYFqhFzZbl",
        "outputId": "a6e4343c-f354-4858-972f-50f6fb08b15d"
      },
      "execution_count": null,
      "outputs": [
        {
          "output_type": "execute_result",
          "data": {
            "text/plain": [
              "         수신일자   수신시간 메일종류                                               메일제목  \\\n",
              "0  2021-06-24  18:06   스팸                      FW: HSBC Remttance swift copy   \n",
              "1  2021-06-24  18:14   스팸  These Revolutionary Glasses Make It Safe to Dr...   \n",
              "2  2021-06-24  18:14   스팸  Invest in your safety and peace of mind behind...   \n",
              "3  2021-06-24  18:15   스팸  Re: PV solar glass (AR coated) for solar modul...   \n",
              "4  2021-06-24  18:28   스팸         Cook like a samurai with Japanese knives..   \n",
              "\n",
              "                        첨부  \n",
              "0  WIRE COPY.html (18.9 K)  \n",
              "1                       없음  \n",
              "2                       없음  \n",
              "3                       없음  \n",
              "4                       없음  "
            ],
            "text/html": [
              "\n",
              "  <div id=\"df-6abb2430-9945-4886-aebf-db46e01b67e1\">\n",
              "    <div class=\"colab-df-container\">\n",
              "      <div>\n",
              "<style scoped>\n",
              "    .dataframe tbody tr th:only-of-type {\n",
              "        vertical-align: middle;\n",
              "    }\n",
              "\n",
              "    .dataframe tbody tr th {\n",
              "        vertical-align: top;\n",
              "    }\n",
              "\n",
              "    .dataframe thead th {\n",
              "        text-align: right;\n",
              "    }\n",
              "</style>\n",
              "<table border=\"1\" class=\"dataframe\">\n",
              "  <thead>\n",
              "    <tr style=\"text-align: right;\">\n",
              "      <th></th>\n",
              "      <th>수신일자</th>\n",
              "      <th>수신시간</th>\n",
              "      <th>메일종류</th>\n",
              "      <th>메일제목</th>\n",
              "      <th>첨부</th>\n",
              "    </tr>\n",
              "  </thead>\n",
              "  <tbody>\n",
              "    <tr>\n",
              "      <th>0</th>\n",
              "      <td>2021-06-24</td>\n",
              "      <td>18:06</td>\n",
              "      <td>스팸</td>\n",
              "      <td>FW: HSBC Remttance swift copy</td>\n",
              "      <td>WIRE COPY.html (18.9 K)</td>\n",
              "    </tr>\n",
              "    <tr>\n",
              "      <th>1</th>\n",
              "      <td>2021-06-24</td>\n",
              "      <td>18:14</td>\n",
              "      <td>스팸</td>\n",
              "      <td>These Revolutionary Glasses Make It Safe to Dr...</td>\n",
              "      <td>없음</td>\n",
              "    </tr>\n",
              "    <tr>\n",
              "      <th>2</th>\n",
              "      <td>2021-06-24</td>\n",
              "      <td>18:14</td>\n",
              "      <td>스팸</td>\n",
              "      <td>Invest in your safety and peace of mind behind...</td>\n",
              "      <td>없음</td>\n",
              "    </tr>\n",
              "    <tr>\n",
              "      <th>3</th>\n",
              "      <td>2021-06-24</td>\n",
              "      <td>18:15</td>\n",
              "      <td>스팸</td>\n",
              "      <td>Re: PV solar glass (AR coated) for solar modul...</td>\n",
              "      <td>없음</td>\n",
              "    </tr>\n",
              "    <tr>\n",
              "      <th>4</th>\n",
              "      <td>2021-06-24</td>\n",
              "      <td>18:28</td>\n",
              "      <td>스팸</td>\n",
              "      <td>Cook like a samurai with Japanese knives..</td>\n",
              "      <td>없음</td>\n",
              "    </tr>\n",
              "  </tbody>\n",
              "</table>\n",
              "</div>\n",
              "      <button class=\"colab-df-convert\" onclick=\"convertToInteractive('df-6abb2430-9945-4886-aebf-db46e01b67e1')\"\n",
              "              title=\"Convert this dataframe to an interactive table.\"\n",
              "              style=\"display:none;\">\n",
              "        \n",
              "  <svg xmlns=\"http://www.w3.org/2000/svg\" height=\"24px\"viewBox=\"0 0 24 24\"\n",
              "       width=\"24px\">\n",
              "    <path d=\"M0 0h24v24H0V0z\" fill=\"none\"/>\n",
              "    <path d=\"M18.56 5.44l.94 2.06.94-2.06 2.06-.94-2.06-.94-.94-2.06-.94 2.06-2.06.94zm-11 1L8.5 8.5l.94-2.06 2.06-.94-2.06-.94L8.5 2.5l-.94 2.06-2.06.94zm10 10l.94 2.06.94-2.06 2.06-.94-2.06-.94-.94-2.06-.94 2.06-2.06.94z\"/><path d=\"M17.41 7.96l-1.37-1.37c-.4-.4-.92-.59-1.43-.59-.52 0-1.04.2-1.43.59L10.3 9.45l-7.72 7.72c-.78.78-.78 2.05 0 2.83L4 21.41c.39.39.9.59 1.41.59.51 0 1.02-.2 1.41-.59l7.78-7.78 2.81-2.81c.8-.78.8-2.07 0-2.86zM5.41 20L4 18.59l7.72-7.72 1.47 1.35L5.41 20z\"/>\n",
              "  </svg>\n",
              "      </button>\n",
              "      \n",
              "  <style>\n",
              "    .colab-df-container {\n",
              "      display:flex;\n",
              "      flex-wrap:wrap;\n",
              "      gap: 12px;\n",
              "    }\n",
              "\n",
              "    .colab-df-convert {\n",
              "      background-color: #E8F0FE;\n",
              "      border: none;\n",
              "      border-radius: 50%;\n",
              "      cursor: pointer;\n",
              "      display: none;\n",
              "      fill: #1967D2;\n",
              "      height: 32px;\n",
              "      padding: 0 0 0 0;\n",
              "      width: 32px;\n",
              "    }\n",
              "\n",
              "    .colab-df-convert:hover {\n",
              "      background-color: #E2EBFA;\n",
              "      box-shadow: 0px 1px 2px rgba(60, 64, 67, 0.3), 0px 1px 3px 1px rgba(60, 64, 67, 0.15);\n",
              "      fill: #174EA6;\n",
              "    }\n",
              "\n",
              "    [theme=dark] .colab-df-convert {\n",
              "      background-color: #3B4455;\n",
              "      fill: #D2E3FC;\n",
              "    }\n",
              "\n",
              "    [theme=dark] .colab-df-convert:hover {\n",
              "      background-color: #434B5C;\n",
              "      box-shadow: 0px 1px 3px 1px rgba(0, 0, 0, 0.15);\n",
              "      filter: drop-shadow(0px 1px 2px rgba(0, 0, 0, 0.3));\n",
              "      fill: #FFFFFF;\n",
              "    }\n",
              "  </style>\n",
              "\n",
              "      <script>\n",
              "        const buttonEl =\n",
              "          document.querySelector('#df-6abb2430-9945-4886-aebf-db46e01b67e1 button.colab-df-convert');\n",
              "        buttonEl.style.display =\n",
              "          google.colab.kernel.accessAllowed ? 'block' : 'none';\n",
              "\n",
              "        async function convertToInteractive(key) {\n",
              "          const element = document.querySelector('#df-6abb2430-9945-4886-aebf-db46e01b67e1');\n",
              "          const dataTable =\n",
              "            await google.colab.kernel.invokeFunction('convertToInteractive',\n",
              "                                                     [key], {});\n",
              "          if (!dataTable) return;\n",
              "\n",
              "          const docLinkHtml = 'Like what you see? Visit the ' +\n",
              "            '<a target=\"_blank\" href=https://colab.research.google.com/notebooks/data_table.ipynb>data table notebook</a>'\n",
              "            + ' to learn more about interactive tables.';\n",
              "          element.innerHTML = '';\n",
              "          dataTable['output_type'] = 'display_data';\n",
              "          await google.colab.output.renderOutput(dataTable, element);\n",
              "          const docLink = document.createElement('div');\n",
              "          docLink.innerHTML = docLinkHtml;\n",
              "          element.appendChild(docLink);\n",
              "        }\n",
              "      </script>\n",
              "    </div>\n",
              "  </div>\n",
              "  "
            ]
          },
          "metadata": {},
          "execution_count": 9
        }
      ]
    },
    {
      "cell_type": "code",
      "source": [
        "# 결측치\n",
        "dataset.isnull().sum()"
      ],
      "metadata": {
        "colab": {
          "base_uri": "https://localhost:8080/"
        },
        "id": "XTzUi26VxT0T",
        "outputId": "2d130593-fca9-4e00-c30e-8cca9d2d9b37"
      },
      "execution_count": null,
      "outputs": [
        {
          "output_type": "execute_result",
          "data": {
            "text/plain": [
              "수신일자        0\n",
              "수신시간        0\n",
              "메일종류        0\n",
              "메일제목      175\n",
              "첨부      17893\n",
              "dtype: int64"
            ]
          },
          "metadata": {},
          "execution_count": 14
        }
      ]
    },
    {
      "cell_type": "markdown",
      "source": [
        "제목이 없는 메일이 175개 있다. 일단 제거하지 않고 추후 제목 결측 메일들에 대해 종류의 분포를 확인해볼 것이다."
      ],
      "metadata": {
        "id": "-ysGWbod1P3y"
      }
    },
    {
      "cell_type": "code",
      "source": [
        "# 제목 중복 제거\n",
        "dataset.drop_duplicates(subset='메일제목', inplace=True)\n",
        "print(f'중복 제거 후 데이터 행 수: {len(dataset)}')"
      ],
      "metadata": {
        "colab": {
          "base_uri": "https://localhost:8080/"
        },
        "id": "5txCctFw022O",
        "outputId": "2b6b4d15-caa8-40e4-ff26-85e23fb3c29d"
      },
      "execution_count": null,
      "outputs": [
        {
          "output_type": "stream",
          "name": "stdout",
          "text": [
            "중복 제거 후 데이터 행 수: 7052\n"
          ]
        }
      ]
    },
    {
      "cell_type": "markdown",
      "source": [
        "샘플 수가 26651개에서 7052개로 줄었다. 19599개의 중복 데이터가 제거되었다."
      ],
      "metadata": {
        "id": "CVQZpJvn269q"
      }
    },
    {
      "cell_type": "code",
      "source": [],
      "metadata": {
        "id": "TbBp6Llh26W3"
      },
      "execution_count": null,
      "outputs": []
    }
  ]
}